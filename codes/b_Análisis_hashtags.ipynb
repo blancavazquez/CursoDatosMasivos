{
 "cells": [
  {
   "cell_type": "markdown",
   "metadata": {},
   "source": [
    "# Identificando tendencias de hashtags en twitter\n",
    "El objetivo de esta libreta es identificar el top 5 de hashtags identificados en los tweets recolectados usando Scala"
   ]
  },
  {
   "cell_type": "code",
   "execution_count": 1,
   "metadata": {},
   "outputs": [],
   "source": [
    "#Carga de librerías\n",
    "from pandas import read_csv\n",
    "import pandas as pd\n",
    "import numpy as np\n",
    "import re\n",
    "from functools import reduce\n",
    "from collections import Counter\n",
    "import seaborn as sns; sns.set(style=\"ticks\", color_codes=True)\n",
    "import matplotlib.pyplot as plt\n",
    "import collections\n",
    "from itertools import islice\n",
    "import unicodedata\n",
    "import warnings\n",
    "warnings.filterwarnings('ignore')"
   ]
  },
  {
   "cell_type": "code",
   "execution_count": 2,
   "metadata": {},
   "outputs": [],
   "source": [
    "def read_data(raw_tweet):\n",
    "    \"\"\"Función para leer los tweets recolectados\"\"\"\n",
    "    data = read_csv(raw_tweet, header=0,na_filter=True)\n",
    "    return data\n",
    "\n",
    "def hashtags(tweet):\n",
    "    \"\"\"Función para identificar los hashtags\"\"\"\n",
    "    hash = []\n",
    "    for sen in range (0,len(tweet)):\n",
    "        texto = re.sub(r'\\s+', ' ', str(tweet[sen]), flags=re.I)# Substituting multiple spaces with single space\n",
    "        texto = texto.replace(\"ー\", \"\") #eliminamos guión medio\n",
    "        texto = re.sub(r'[0-9]','', texto) #elimina números del 0 al 9\n",
    "        texto = texto.lower()# Convertimos a minúsculas\n",
    "        texto = ''.join((c for c in unicodedata.normalize('NFD',texto) if unicodedata.category(c) != 'Mn')) #Eliminamos acentos\n",
    "        re.findall(r\"#(\\w+)\", texto) #Antes de identificar hashtags, reemplazamos esto:\"http://example.org/#comments\"\n",
    "        texto = re.findall(r\"#(\\w+)\", texto)\n",
    "        hash.append(texto) #podríamos tener filas en blanco en la lista\n",
    "    hash = list(filter(None,hash))\n",
    "    return hash"
   ]
  },
  {
   "cell_type": "code",
   "execution_count": 3,
   "metadata": {},
   "outputs": [
    {
     "name": "stdout",
     "output_type": "stream",
     "text": [
      "                                                  text\n",
      "0    Several companies with MIT ties are working to...\n",
      "1    RT @UNAM_MX: El celular es uno de los disposit...\n",
      "2    RT @IDDocHymes: @ESchwenkMD @iMacHead @DrKarb ...\n",
      "3    RT @GeorgianLibrary: Students:  tell your stor...\n",
      "4              RT @GoJackFlynn: How fucked up is this?\n",
      "..                                                 ...\n",
      "995  We the People demand to know if the media won’...\n",
      "996  RT @SWIMIndivisible: This is Maureen. She is o...\n",
      "997  RT @CJFerguson1111: You TOO can have signed co...\n",
      "998                                                NaN\n",
      "999  RT @hadasaco: Me opongo  a ser el sacrificio, ...\n",
      "\n",
      "[1000 rows x 1 columns]\n"
     ]
    }
   ],
   "source": [
    "raw_tweets = '../data/export.csv' #Ubicación de los tweets descargados de Databricks!\n",
    "raw_tweet = read_data(raw_tweets) #leyendo tweets\n",
    "print(raw_tweet)"
   ]
  },
  {
   "cell_type": "code",
   "execution_count": 4,
   "metadata": {},
   "outputs": [
    {
     "name": "stdout",
     "output_type": "stream",
     "text": [
      "['georgiancollege', 'georgia', 'covid', 'quedateencasa', 'covid', 'covid', 'conferencia', 'covid', 'cuarentenaobligatoria', 'coronavirusargentina']\n"
     ]
    }
   ],
   "source": [
    "hash_tweets = hashtags(raw_tweet['text']) #identificando hashtags en tweets\n",
    "hash_tweets = reduce(lambda x,y: x+y,hash_tweets) #debido a que 'hash_tweets' es una lista de lista, generamos una lista plana\n",
    "print(hash_tweets[:10])"
   ]
  },
  {
   "cell_type": "code",
   "execution_count": 5,
   "metadata": {},
   "outputs": [
    {
     "name": "stdout",
     "output_type": "stream",
     "text": [
      "Counter({'covid': 130, 'coronavirus': 16, 'quedateencasa': 10, 'reportecovid': 4, 'miwhitmerswomen': 4, 'stayathome': 4, 'abril': 4, 'n': 4, 'stayhome': 4, 'mexico': 3, 'cuba': 3, 'face': 3, 'mask': 3, 'facemasks': 3, 'envivo': 3, 'staysafe': 3, 'covidao': 3, 'fechadoscombolsonaro': 3, 'eeuu': 3, 'elsalvador': 3, 'georgia': 2, 'wuhan': 2, 'bangbangcon': 2, 'maga': 2, 'abr': 2, 'corona': 2, 'italiano': 2, 'autopsias': 2, 'cancun': 2, 'snteatulado': 2, 'putrajaya': 2, 'venezuela': 2, 'urgente': 2, 'deportes': 2, 'bukeledictador': 2, 'prevencionyaccion': 2, 'ultimominuto': 2, 'nuevanormalidad': 2, 'covi': 2, 'pennsyltucky': 2, 'thankyou': 2, 'petroleo': 2, 'atencion': 2, 'pennsylvania': 2, 'georgiancollege': 1, 'conferencia': 1, 'cuarentenaobligatoria': 1, 'coronavirusargentina': 1, 'happeningnow': 1, 'ntvpres': 1, 'dedicationatworksafetyathome': 1, 'together_a': 1, 'cordobaver': 1, 'coronavirusbrasil': 1, 'americanoticias': 1, 'honduras': 1, '日経メティカル': 1, 'trumpvirus': 1, 'trumpgenocide': 1, 'fechadocombolsonaro': 1, 'aragua': 1, 'testicoli': 1, 'pornostar': 1, 'california': 1, 'felizlunes': 1, 'snte': 1, 'india': 1, 'dni': 1, 'seriea': 1, 'spadafora': 1, 'ripresa': 1, 'club': 1, 'giocare': 1, 'juventus': 1, 'ital': 1, 'peru': 1, 'bhilwaramodel': 1, 'covidaus': 1, 'paris': 1, 'memorial': 1, 'health': 1, 'socialcare': 1, 'teletrabajoec': 1, 'frontlineheroes': 1, 'onmymind': 1, 'cvd': 1, 'prevention': 1, 'u': 1, 'hamburg': 1, 'lilies': 1, 'goodevening': 1, 'smartnews': 1, 'pandemiamundial': 1, 'update': 1, 'construyendounnuevotexis': 1, 'unidad': 1, 'ohio': 1, 'inthistogetheroh': 1, 'italy': 1, 'spain': 1, 'nyc': 1, 'rough': 1, 'sex': 1, 'quarantine': 1, 'oilcrash': 1, 'canada': 1, 'covidcanada': 1, 'coronaviruslootcrew': 1, 'saudaraangkat': 1, 'kinshasa': 1, 'thiswillpass': 1, 'jairbolsonaro': 1, 'impeachmentdebolsonaro': 1, 'delcyencadena': 1, 'quarantinelife': 1, 'trump': 1, 'kag': 1, 'kekaltenang': 1, 'hapuscovid': 1, 'awaninews': 1, 'awani': 1, 'abrildelealtadchavista': 1, 'porsinoloviste': 1, 'presidementia': 1, 'bioseguridad': 1, 'biosafety': 1, 'carabobo': 1, 'colegioarqui': 1, 'arquianos': 1, 'isolamentosocial': 1, 'ferias': 1, 'dicasdejogos': 1, 'jogoseducativos': 1, 'tecnologiaarqui': 1, 'ifema': 1, 'edomex': 1, 'estadodeemergencia': 1, '神戸市長': 1, 'queretaro': 1, 'reopenpa': 1, 'stormtrooper': 1, 'barquisimeto': 1, 'respectforhealthcareworkers': 1, 'cumplelacuarentena': 1, 'toiletpaper': 1, 'lockdown': 1, 'coronaviruspandemic': 1, 'coronaviruswgreatnews': 1, 'btsarmy': 1, 'ourremedyisarmy': 1, 'sony': 1, 'ヤマヒエ': 1, 'pride': 1, 'saas': 1, 'cio': 1, 'ciso': 1, 'cotopaxi': 1, 'misionternuracnh': 1, 'viruschino': 1, 'miamiherald': 1, 'fabiolasantiago': 1, 'cale': 1, 'makar': 1, 'synergy': 1, 'clients': 1, 'cusco': 1, 'earthday': 1, 'missionpoint': 1, 'regionales': 1, 'sistemadesalud': 1, 'desempleo': 1, 'liveunited': 1, 'inthistogether': 1, 'kisssquad': 1, 'c': 1, 'vamosnuevaesparta': 1, 'nuevaesparta': 1, 'foraalcolumbre': 1, 'polqc': 1, 'covidqc': 1, 'covidchile': 1, 'trabajenflojos': 1, 'covidjamaica': 1, 'oilprice': 1, 'loultimo': 1, 'ipitec': 1, 'death': 1, 'usa': 1, 'aestahora': 1, 'modoact': 1, 'medioambiente': 1, 'realestate': 1, 'mapuche': 1, 'temuco': 1, 'chile': 1, 'futminnavsunilorin': 1, 'african': 1, 'spacex': 1, 'deepstate': 1, 'bible': 1, 'chr': 1, 'reopenamerica': 1, 'staysafestayhome': 1, 'elparaisopuedeesperar': 1, 'byedon': 1, 'trumpcoronavirustestfailure': 1, 'almomento': 1, 'oh': 1, 's': 1, 'southafrica': 1, 'trumpknew': 1, 'trumpgrowup': 1, 'mitchellreports': 1, 'msnbc': 1, 'cnn': 1, 'foxnews': 1, 'cspan': 1, 'oms': 1, 'onu': 1, 'seccion': 1, 'colombia': 1, 'quedateen': 1, 'bluecollar': 1, 'guayas': 1, '新冠疫情': 1, 'usavirus': 1, 'solidariacercania': 1, 'aquiestamos': 1, 'ied': 1, 'mejorencasa': 1, 'ist': 1, 'luz': 1, 'costarica': 1, 'palestina': 1, 'sarscov': 1, 'enresumen': 1, 'iran': 1, 'koweit': 1, 'vamospormas': 1, 'seguimosenlucha': 1, 'yoestoyconbukele': 1, 'childcare': 1, 'sosniheroesnimartir': 1})\n"
     ]
    }
   ],
   "source": [
    "dict_hashtags = collections.Counter(hash_tweets) #creamos un diccionario\n",
    "print(dict_hashtags)"
   ]
  },
  {
   "cell_type": "code",
   "execution_count": 6,
   "metadata": {},
   "outputs": [
    {
     "data": {
      "image/png": "[encoded data removed]",
      "text/plain": [
       "<Figure size 720x576 with 1 Axes>"
      ]
     },
     "metadata": {
      "needs_background": "light"
     },
     "output_type": "display_data"
    }
   ],
   "source": [
    "top5 = dict(islice(Counter(hash_tweets).most_common(5), 5))#Visualizamos los 3 hashtags más comunes\n",
    "plt.figure(figsize=(10, 8))\n",
    "plt.bar(top5.keys(), top5.values())\n",
    "plt.title(\"Top 5: Hashtags correspondientes al 20 de abril\")\n",
    "plt.xlabel(\"Trending topics\")\n",
    "plt.ylabel(\"Número de tweets\")\n",
    "plt.show()"
   ]
  }
 ],
 "metadata": {
  "kernelspec": {
   "display_name": "Python 3",
   "language": "python",
   "name": "python3"
  },
  "language_info": {
   "codemirror_mode": {
    "name": "ipython",
    "version": 3
   },
   "file_extension": ".py",
   "mimetype": "text/x-python",
   "name": "python",
   "nbconvert_exporter": "python",
   "pygments_lexer": "ipython3",
   "version": "3.6.9"
  }
 },
 "nbformat": 4,
 "nbformat_minor": 2
}
